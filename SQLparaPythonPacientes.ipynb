{
 "cells": [
  {
   "cell_type": "code",
   "execution_count": 1,
   "id": "5ddb3af1-e6fb-4d71-8e10-1cf6d0c609df",
   "metadata": {},
   "outputs": [],
   "source": [
    "!pip install -q -U watermark"
   ]
  },
  {
   "cell_type": "code",
   "execution_count": 2,
   "id": "c308ef32-960a-49e5-9fde-bda90807d592",
   "metadata": {},
   "outputs": [
    {
     "name": "stdout",
     "output_type": "stream",
     "text": [
      "Defaulting to user installation because normal site-packages is not writeable\n",
      "Requirement already satisfied: jupysql in c:\\users\\victo\\appdata\\roaming\\python\\python312\\site-packages (0.10.17)\n",
      "Requirement already satisfied: prettytable>=3.12.0 in c:\\users\\victo\\appdata\\roaming\\python\\python312\\site-packages (from jupysql) (3.12.0)\n",
      "Requirement already satisfied: sqlalchemy in c:\\programdata\\anaconda3\\lib\\site-packages (from jupysql) (2.0.34)\n",
      "Requirement already satisfied: sqlparse in c:\\users\\victo\\appdata\\roaming\\python\\python312\\site-packages (from jupysql) (0.5.3)\n",
      "Requirement already satisfied: ipython-genutils>=0.1.0 in c:\\programdata\\anaconda3\\lib\\site-packages (from jupysql) (0.2.0)\n",
      "Requirement already satisfied: jinja2 in c:\\programdata\\anaconda3\\lib\\site-packages (from jupysql) (3.1.4)\n",
      "Requirement already satisfied: sqlglot>=11.3.7 in c:\\users\\victo\\appdata\\roaming\\python\\python312\\site-packages (from jupysql) (26.1.3)\n",
      "Requirement already satisfied: jupysql-plugin>=0.4.2 in c:\\users\\victo\\appdata\\roaming\\python\\python312\\site-packages (from jupysql) (0.4.5)\n",
      "Requirement already satisfied: ploomber-core>=0.2.7 in c:\\users\\victo\\appdata\\roaming\\python\\python312\\site-packages (from jupysql) (0.2.26)\n",
      "Requirement already satisfied: pyyaml in c:\\programdata\\anaconda3\\lib\\site-packages (from ploomber-core>=0.2.7->jupysql) (6.0.1)\n",
      "Requirement already satisfied: posthog in c:\\users\\victo\\appdata\\roaming\\python\\python312\\site-packages (from ploomber-core>=0.2.7->jupysql) (3.8.3)\n",
      "Requirement already satisfied: wcwidth in c:\\programdata\\anaconda3\\lib\\site-packages (from prettytable>=3.12.0->jupysql) (0.2.5)\n",
      "Requirement already satisfied: MarkupSafe>=2.0 in c:\\programdata\\anaconda3\\lib\\site-packages (from jinja2->jupysql) (2.1.3)\n",
      "Requirement already satisfied: typing-extensions>=4.6.0 in c:\\programdata\\anaconda3\\lib\\site-packages (from sqlalchemy->jupysql) (4.11.0)\n",
      "Requirement already satisfied: greenlet!=0.4.17 in c:\\programdata\\anaconda3\\lib\\site-packages (from sqlalchemy->jupysql) (3.0.1)\n",
      "Requirement already satisfied: requests<3.0,>=2.7 in c:\\programdata\\anaconda3\\lib\\site-packages (from posthog->ploomber-core>=0.2.7->jupysql) (2.32.3)\n",
      "Requirement already satisfied: six>=1.5 in c:\\programdata\\anaconda3\\lib\\site-packages (from posthog->ploomber-core>=0.2.7->jupysql) (1.16.0)\n",
      "Requirement already satisfied: monotonic>=1.5 in c:\\users\\victo\\appdata\\roaming\\python\\python312\\site-packages (from posthog->ploomber-core>=0.2.7->jupysql) (1.6)\n",
      "Requirement already satisfied: backoff>=1.10.0 in c:\\users\\victo\\appdata\\roaming\\python\\python312\\site-packages (from posthog->ploomber-core>=0.2.7->jupysql) (2.2.1)\n",
      "Requirement already satisfied: python-dateutil>2.1 in c:\\programdata\\anaconda3\\lib\\site-packages (from posthog->ploomber-core>=0.2.7->jupysql) (2.9.0.post0)\n",
      "Requirement already satisfied: charset-normalizer<4,>=2 in c:\\programdata\\anaconda3\\lib\\site-packages (from requests<3.0,>=2.7->posthog->ploomber-core>=0.2.7->jupysql) (3.3.2)\n",
      "Requirement already satisfied: idna<4,>=2.5 in c:\\programdata\\anaconda3\\lib\\site-packages (from requests<3.0,>=2.7->posthog->ploomber-core>=0.2.7->jupysql) (3.7)\n",
      "Requirement already satisfied: urllib3<3,>=1.21.1 in c:\\programdata\\anaconda3\\lib\\site-packages (from requests<3.0,>=2.7->posthog->ploomber-core>=0.2.7->jupysql) (2.2.3)\n",
      "Requirement already satisfied: certifi>=2017.4.17 in c:\\programdata\\anaconda3\\lib\\site-packages (from requests<3.0,>=2.7->posthog->ploomber-core>=0.2.7->jupysql) (2024.8.30)\n",
      "Note: you may need to restart the kernel to use updated packages.\n"
     ]
    }
   ],
   "source": [
    "pip install jupysql"
   ]
  },
  {
   "cell_type": "code",
   "execution_count": 3,
   "id": "7eee5b5e-9ce4-4483-af64-2ce2abf044f1",
   "metadata": {},
   "outputs": [],
   "source": [
    "import os\n",
    "import pandas as pd\n",
    "import sqlite3"
   ]
  },
  {
   "cell_type": "code",
   "execution_count": 4,
   "id": "f8efa09e-ed2c-4149-89b7-a19acb3bdc4a",
   "metadata": {},
   "outputs": [],
   "source": [
    "arquivo_path = 'dsadatabase.db'"
   ]
  },
  {
   "cell_type": "code",
   "execution_count": 6,
   "id": "f0681b45-4103-427c-b3b9-b69c423e6e57",
   "metadata": {},
   "outputs": [
    {
     "name": "stdout",
     "output_type": "stream",
     "text": [
      "Arquivo dsadatabase.db deletado com sucesso!\n"
     ]
    }
   ],
   "source": [
    "if os.path.exists(arquivo_path):\n",
    "    try:\n",
    "        os.remove(arquivo_path)\n",
    "        print(f\"Arquivo {arquivo_path} deletado com sucesso!\")\n",
    "    except Exception as e:\n",
    "        print(f\"Erro ao deletar o arquivo {arquivo_path}. Detalhes: {e}\")\n",
    "else:\n",
    "    print(f\"Arquivo {arquivo_path} não encontrado.\")"
   ]
  },
  {
   "cell_type": "code",
   "execution_count": 7,
   "id": "4896d150-f902-49d1-b9e3-6224a466a178",
   "metadata": {},
   "outputs": [],
   "source": [
    "cnn = sqlite3.connect('dsadatabase.db')"
   ]
  },
  {
   "cell_type": "code",
   "execution_count": 8,
   "id": "7b72e545-5750-4469-b5ef-d372643b0208",
   "metadata": {},
   "outputs": [],
   "source": [
    "df = pd.read_csv('dataset.csv')"
   ]
  },
  {
   "cell_type": "code",
   "execution_count": 9,
   "id": "6b81686f-2faa-403e-85c8-95e6b66a3564",
   "metadata": {},
   "outputs": [
    {
     "data": {
      "text/plain": [
       "768"
      ]
     },
     "execution_count": 9,
     "metadata": {},
     "output_type": "execute_result"
    }
   ],
   "source": [
    "df.to_sql('diabetes',cnn)"
   ]
  },
  {
   "cell_type": "code",
   "execution_count": 10,
   "id": "a5635777-e26f-4689-addc-135056597ce6",
   "metadata": {},
   "outputs": [],
   "source": [
    "%load_ext sql"
   ]
  },
  {
   "cell_type": "code",
   "execution_count": 11,
   "id": "8258cbc0-edc6-4824-bf29-9dd6f9d4009e",
   "metadata": {},
   "outputs": [
    {
     "data": {
      "text/html": [
       "<span style=\"None\">Connecting to &#x27;sqlite:///dsadatabase.db&#x27;</span>"
      ],
      "text/plain": [
       "Connecting to 'sqlite:///dsadatabase.db'"
      ]
     },
     "metadata": {},
     "output_type": "display_data"
    }
   ],
   "source": [
    "%sql sqlite:///dsadatabase.db"
   ]
  },
  {
   "cell_type": "code",
   "execution_count": 12,
   "id": "0d7bbc3d-4124-4296-8fcb-870fade0dd50",
   "metadata": {},
   "outputs": [
    {
     "data": {
      "text/html": [
       "<span style=\"None\">Running query in &#x27;sqlite:///dsadatabase.db&#x27;</span>"
      ],
      "text/plain": [
       "Running query in 'sqlite:///dsadatabase.db'"
      ]
     },
     "metadata": {},
     "output_type": "display_data"
    },
    {
     "data": {
      "text/html": [
       "<table>\n",
       "    <thead>\n",
       "        <tr>\n",
       "            <th>index</th>\n",
       "            <th>Pregnancies</th>\n",
       "            <th>Glucose</th>\n",
       "            <th>BloodPressure</th>\n",
       "            <th>SkinThickness</th>\n",
       "            <th>Insulin</th>\n",
       "            <th>BMI</th>\n",
       "            <th>DiabetesPedigreeFunction</th>\n",
       "            <th>Age</th>\n",
       "            <th>Outcome</th>\n",
       "        </tr>\n",
       "    </thead>\n",
       "    <tbody>\n",
       "        <tr>\n",
       "            <td>0</td>\n",
       "            <td>1</td>\n",
       "            <td>103</td>\n",
       "            <td>30</td>\n",
       "            <td>38</td>\n",
       "            <td>83</td>\n",
       "            <td>43.3</td>\n",
       "            <td>0.183</td>\n",
       "            <td>33</td>\n",
       "            <td>0</td>\n",
       "        </tr>\n",
       "        <tr>\n",
       "            <td>1</td>\n",
       "            <td>1</td>\n",
       "            <td>115</td>\n",
       "            <td>70</td>\n",
       "            <td>30</td>\n",
       "            <td>96</td>\n",
       "            <td>34.6</td>\n",
       "            <td>0.529</td>\n",
       "            <td>32</td>\n",
       "            <td>1</td>\n",
       "        </tr>\n",
       "        <tr>\n",
       "            <td>2</td>\n",
       "            <td>3</td>\n",
       "            <td>126</td>\n",
       "            <td>88</td>\n",
       "            <td>41</td>\n",
       "            <td>235</td>\n",
       "            <td>39.3</td>\n",
       "            <td>0.704</td>\n",
       "            <td>27</td>\n",
       "            <td>0</td>\n",
       "        </tr>\n",
       "        <tr>\n",
       "            <td>3</td>\n",
       "            <td>8</td>\n",
       "            <td>99</td>\n",
       "            <td>84</td>\n",
       "            <td>0</td>\n",
       "            <td>0</td>\n",
       "            <td>35.4</td>\n",
       "            <td>0.388</td>\n",
       "            <td>50</td>\n",
       "            <td>0</td>\n",
       "        </tr>\n",
       "        <tr>\n",
       "            <td>4</td>\n",
       "            <td>7</td>\n",
       "            <td>196</td>\n",
       "            <td>90</td>\n",
       "            <td>0</td>\n",
       "            <td>0</td>\n",
       "            <td>39.8</td>\n",
       "            <td>0.451</td>\n",
       "            <td>41</td>\n",
       "            <td>1</td>\n",
       "        </tr>\n",
       "        <tr>\n",
       "            <td>5</td>\n",
       "            <td>6</td>\n",
       "            <td>148</td>\n",
       "            <td>72</td>\n",
       "            <td>35</td>\n",
       "            <td>0</td>\n",
       "            <td>33.6</td>\n",
       "            <td>0.627</td>\n",
       "            <td>50</td>\n",
       "            <td>1</td>\n",
       "        </tr>\n",
       "        <tr>\n",
       "            <td>6</td>\n",
       "            <td>1</td>\n",
       "            <td>85</td>\n",
       "            <td>66</td>\n",
       "            <td>29</td>\n",
       "            <td>0</td>\n",
       "            <td>26.6</td>\n",
       "            <td>0.351</td>\n",
       "            <td>31</td>\n",
       "            <td>0</td>\n",
       "        </tr>\n",
       "        <tr>\n",
       "            <td>7</td>\n",
       "            <td>8</td>\n",
       "            <td>183</td>\n",
       "            <td>64</td>\n",
       "            <td>0</td>\n",
       "            <td>0</td>\n",
       "            <td>23.3</td>\n",
       "            <td>0.672</td>\n",
       "            <td>32</td>\n",
       "            <td>1</td>\n",
       "        </tr>\n",
       "        <tr>\n",
       "            <td>8</td>\n",
       "            <td>1</td>\n",
       "            <td>89</td>\n",
       "            <td>66</td>\n",
       "            <td>23</td>\n",
       "            <td>94</td>\n",
       "            <td>28.1</td>\n",
       "            <td>0.167</td>\n",
       "            <td>21</td>\n",
       "            <td>0</td>\n",
       "        </tr>\n",
       "        <tr>\n",
       "            <td>9</td>\n",
       "            <td>0</td>\n",
       "            <td>137</td>\n",
       "            <td>40</td>\n",
       "            <td>35</td>\n",
       "            <td>168</td>\n",
       "            <td>43.1</td>\n",
       "            <td>2.288</td>\n",
       "            <td>33</td>\n",
       "            <td>1</td>\n",
       "        </tr>\n",
       "    </tbody>\n",
       "</table>\n",
       "<span style=\"font-style:italic;text-align:center;\">Truncated to <a href=\"https://jupysql.ploomber.io/en/latest/api/configuration.html#displaylimit\">displaylimit</a> of 10.</span>"
      ],
      "text/plain": [
       "+-------+-------------+---------+---------------+---------------+---------+------+--------------------------+-----+---------+\n",
       "| index | Pregnancies | Glucose | BloodPressure | SkinThickness | Insulin | BMI  | DiabetesPedigreeFunction | Age | Outcome |\n",
       "+-------+-------------+---------+---------------+---------------+---------+------+--------------------------+-----+---------+\n",
       "|   0   |      1      |   103   |       30      |       38      |    83   | 43.3 |          0.183           |  33 |    0    |\n",
       "|   1   |      1      |   115   |       70      |       30      |    96   | 34.6 |          0.529           |  32 |    1    |\n",
       "|   2   |      3      |   126   |       88      |       41      |   235   | 39.3 |          0.704           |  27 |    0    |\n",
       "|   3   |      8      |    99   |       84      |       0       |    0    | 35.4 |          0.388           |  50 |    0    |\n",
       "|   4   |      7      |   196   |       90      |       0       |    0    | 39.8 |          0.451           |  41 |    1    |\n",
       "|   5   |      6      |   148   |       72      |       35      |    0    | 33.6 |          0.627           |  50 |    1    |\n",
       "|   6   |      1      |    85   |       66      |       29      |    0    | 26.6 |          0.351           |  31 |    0    |\n",
       "|   7   |      8      |   183   |       64      |       0       |    0    | 23.3 |          0.672           |  32 |    1    |\n",
       "|   8   |      1      |    89   |       66      |       23      |    94   | 28.1 |          0.167           |  21 |    0    |\n",
       "|   9   |      0      |   137   |       40      |       35      |   168   | 43.1 |          2.288           |  33 |    1    |\n",
       "+-------+-------------+---------+---------------+---------------+---------+------+--------------------------+-----+---------+\n",
       "Truncated to displaylimit of 10."
      ]
     },
     "execution_count": 12,
     "metadata": {},
     "output_type": "execute_result"
    }
   ],
   "source": [
    "%%sql\n",
    "SELECT * FROM diabetes"
   ]
  },
  {
   "cell_type": "code",
   "execution_count": 13,
   "id": "bd00a377-18f9-4e87-b61c-39e85c606b2f",
   "metadata": {},
   "outputs": [
    {
     "data": {
      "text/html": [
       "<span style=\"None\">Running query in &#x27;sqlite:///dsadatabase.db&#x27;</span>"
      ],
      "text/plain": [
       "Running query in 'sqlite:///dsadatabase.db'"
      ]
     },
     "metadata": {},
     "output_type": "display_data"
    },
    {
     "data": {
      "text/html": [
       "<table>\n",
       "    <thead>\n",
       "        <tr>\n",
       "            <th>Age</th>\n",
       "            <th>Glucose</th>\n",
       "            <th>Outcome</th>\n",
       "        </tr>\n",
       "    </thead>\n",
       "    <tbody>\n",
       "        <tr>\n",
       "            <td>41</td>\n",
       "            <td>196</td>\n",
       "            <td>1</td>\n",
       "        </tr>\n",
       "        <tr>\n",
       "            <td>53</td>\n",
       "            <td>197</td>\n",
       "            <td>1</td>\n",
       "        </tr>\n",
       "        <tr>\n",
       "            <td>57</td>\n",
       "            <td>196</td>\n",
       "            <td>1</td>\n",
       "        </tr>\n",
       "        <tr>\n",
       "            <td>31</td>\n",
       "            <td>197</td>\n",
       "            <td>0</td>\n",
       "        </tr>\n",
       "        <tr>\n",
       "            <td>29</td>\n",
       "            <td>196</td>\n",
       "            <td>1</td>\n",
       "        </tr>\n",
       "        <tr>\n",
       "            <td>39</td>\n",
       "            <td>197</td>\n",
       "            <td>1</td>\n",
       "        </tr>\n",
       "        <tr>\n",
       "            <td>28</td>\n",
       "            <td>198</td>\n",
       "            <td>1</td>\n",
       "        </tr>\n",
       "        <tr>\n",
       "            <td>62</td>\n",
       "            <td>197</td>\n",
       "            <td>1</td>\n",
       "        </tr>\n",
       "        <tr>\n",
       "            <td>22</td>\n",
       "            <td>199</td>\n",
       "            <td>1</td>\n",
       "        </tr>\n",
       "    </tbody>\n",
       "</table>"
      ],
      "text/plain": [
       "+-----+---------+---------+\n",
       "| Age | Glucose | Outcome |\n",
       "+-----+---------+---------+\n",
       "|  41 |   196   |    1    |\n",
       "|  53 |   197   |    1    |\n",
       "|  57 |   196   |    1    |\n",
       "|  31 |   197   |    0    |\n",
       "|  29 |   196   |    1    |\n",
       "|  39 |   197   |    1    |\n",
       "|  28 |   198   |    1    |\n",
       "|  62 |   197   |    1    |\n",
       "|  22 |   199   |    1    |\n",
       "+-----+---------+---------+"
      ]
     },
     "execution_count": 13,
     "metadata": {},
     "output_type": "execute_result"
    }
   ],
   "source": [
    "%%sql\n",
    "SELECT Age, Glucose, Outcome FROM diabetes WHERE Glucose > 195;"
   ]
  },
  {
   "cell_type": "code",
   "execution_count": 14,
   "id": "efb5c413-989a-4a02-97ba-cd7e3f87a481",
   "metadata": {},
   "outputs": [
    {
     "data": {
      "text/plain": [
       "Index(['Pregnancies', 'Glucose', 'BloodPressure', 'SkinThickness', 'Insulin',\n",
       "       'BMI', 'DiabetesPedigreeFunction', 'Age', 'Outcome'],\n",
       "      dtype='object')"
      ]
     },
     "execution_count": 14,
     "metadata": {},
     "output_type": "execute_result"
    }
   ],
   "source": [
    "df.columns"
   ]
  },
  {
   "cell_type": "code",
   "execution_count": 15,
   "id": "b289c711-2d57-4488-a300-7fbf1c660c67",
   "metadata": {},
   "outputs": [
    {
     "data": {
      "text/html": [
       "<span style=\"None\">Running query in &#x27;sqlite:///dsadatabase.db&#x27;</span>"
      ],
      "text/plain": [
       "Running query in 'sqlite:///dsadatabase.db'"
      ]
     },
     "metadata": {},
     "output_type": "display_data"
    },
    {
     "data": {
      "text/html": [
       "<table>\n",
       "    <thead>\n",
       "        <tr>\n",
       "        </tr>\n",
       "    </thead>\n",
       "    <tbody>\n",
       "    </tbody>\n",
       "</table>"
      ],
      "text/plain": [
       "++\n",
       "||\n",
       "++\n",
       "++"
      ]
     },
     "execution_count": 15,
     "metadata": {},
     "output_type": "execute_result"
    }
   ],
   "source": [
    "%%sql\n",
    "\n",
    "CREATE TABLE pacientes (Pregnancies INT,\n",
    "                        Glucose INT,\n",
    "                        BloodPressure INT,\n",
    "                        SkinThickness INT,\n",
    "                        Insulin INT,\n",
    "                        BMI DECIMAL(8, 2),\n",
    "                        DiabetesPedigreeFunction DECIMAL(8, 2),\n",
    "                        Age INT,\n",
    "                        Outcome INT);"
   ]
  },
  {
   "cell_type": "code",
   "execution_count": 17,
   "id": "93bf9a71-b809-463d-b4f8-3f8b20461204",
   "metadata": {},
   "outputs": [
    {
     "data": {
      "text/html": [
       "<span style=\"None\">Running query in &#x27;sqlite:///dsadatabase.db&#x27;</span>"
      ],
      "text/plain": [
       "Running query in 'sqlite:///dsadatabase.db'"
      ]
     },
     "metadata": {},
     "output_type": "display_data"
    },
    {
     "data": {
      "text/html": [
       "<span style=\"color: green\">81 rows affected.</span>"
      ],
      "text/plain": [
       "81 rows affected."
      ]
     },
     "metadata": {},
     "output_type": "display_data"
    },
    {
     "data": {
      "text/html": [
       "<table>\n",
       "    <thead>\n",
       "        <tr>\n",
       "        </tr>\n",
       "    </thead>\n",
       "    <tbody>\n",
       "    </tbody>\n",
       "</table>"
      ],
      "text/plain": [
       "++\n",
       "||\n",
       "++\n",
       "++"
      ]
     },
     "execution_count": 17,
     "metadata": {},
     "output_type": "execute_result"
    }
   ],
   "source": [
    "%%sql\n",
    "INSERT INTO pacientes(Pregnancies, \n",
    "                      Glucose, \n",
    "                      BloodPressure, \n",
    "                      SkinThickness, \n",
    "                      Insulin, \n",
    "                      BMI, \n",
    "                      DiabetesPedigreeFunction, \n",
    "                      Age, \n",
    "                      Outcome) \n",
    "SELECT Pregnancies, Glucose, BloodPressure, SkinThickness, Insulin, BMI, DiabetesPedigreeFunction, Age, Outcome \n",
    "FROM diabetes WHERE Age > 50;"
   ]
  },
  {
   "cell_type": "code",
   "execution_count": 18,
   "id": "aa333fc1-2fb3-403f-8d79-fffa91fd7e40",
   "metadata": {},
   "outputs": [
    {
     "data": {
      "text/html": [
       "<span style=\"None\">Running query in &#x27;sqlite:///dsadatabase.db&#x27;</span>"
      ],
      "text/plain": [
       "Running query in 'sqlite:///dsadatabase.db'"
      ]
     },
     "metadata": {},
     "output_type": "display_data"
    },
    {
     "data": {
      "text/html": [
       "<table>\n",
       "    <thead>\n",
       "        <tr>\n",
       "            <th>Pregnancies</th>\n",
       "            <th>Glucose</th>\n",
       "            <th>BloodPressure</th>\n",
       "            <th>SkinThickness</th>\n",
       "            <th>Insulin</th>\n",
       "            <th>BMI</th>\n",
       "            <th>DiabetesPedigreeFunction</th>\n",
       "            <th>Age</th>\n",
       "            <th>Outcome</th>\n",
       "        </tr>\n",
       "    </thead>\n",
       "    <tbody>\n",
       "        <tr>\n",
       "            <td>2</td>\n",
       "            <td>197</td>\n",
       "            <td>70</td>\n",
       "            <td>45</td>\n",
       "            <td>543</td>\n",
       "            <td>30.5</td>\n",
       "            <td>0.158</td>\n",
       "            <td>53</td>\n",
       "            <td>1</td>\n",
       "        </tr>\n",
       "        <tr>\n",
       "            <td>8</td>\n",
       "            <td>125</td>\n",
       "            <td>96</td>\n",
       "            <td>0</td>\n",
       "            <td>0</td>\n",
       "            <td>0</td>\n",
       "            <td>0.232</td>\n",
       "            <td>54</td>\n",
       "            <td>1</td>\n",
       "        </tr>\n",
       "        <tr>\n",
       "            <td>10</td>\n",
       "            <td>139</td>\n",
       "            <td>80</td>\n",
       "            <td>0</td>\n",
       "            <td>0</td>\n",
       "            <td>27.1</td>\n",
       "            <td>1.441</td>\n",
       "            <td>57</td>\n",
       "            <td>0</td>\n",
       "        </tr>\n",
       "        <tr>\n",
       "            <td>1</td>\n",
       "            <td>189</td>\n",
       "            <td>60</td>\n",
       "            <td>23</td>\n",
       "            <td>846</td>\n",
       "            <td>30.1</td>\n",
       "            <td>0.398</td>\n",
       "            <td>59</td>\n",
       "            <td>1</td>\n",
       "        </tr>\n",
       "        <tr>\n",
       "            <td>5</td>\n",
       "            <td>166</td>\n",
       "            <td>72</td>\n",
       "            <td>19</td>\n",
       "            <td>175</td>\n",
       "            <td>25.8</td>\n",
       "            <td>0.587</td>\n",
       "            <td>51</td>\n",
       "            <td>1</td>\n",
       "        </tr>\n",
       "        <tr>\n",
       "            <td>11</td>\n",
       "            <td>143</td>\n",
       "            <td>94</td>\n",
       "            <td>33</td>\n",
       "            <td>146</td>\n",
       "            <td>36.6</td>\n",
       "            <td>0.254</td>\n",
       "            <td>51</td>\n",
       "            <td>1</td>\n",
       "        </tr>\n",
       "        <tr>\n",
       "            <td>13</td>\n",
       "            <td>145</td>\n",
       "            <td>82</td>\n",
       "            <td>19</td>\n",
       "            <td>110</td>\n",
       "            <td>22.2</td>\n",
       "            <td>0.245</td>\n",
       "            <td>57</td>\n",
       "            <td>0</td>\n",
       "        </tr>\n",
       "        <tr>\n",
       "            <td>5</td>\n",
       "            <td>109</td>\n",
       "            <td>75</td>\n",
       "            <td>26</td>\n",
       "            <td>0</td>\n",
       "            <td>36</td>\n",
       "            <td>0.546</td>\n",
       "            <td>60</td>\n",
       "            <td>0</td>\n",
       "        </tr>\n",
       "        <tr>\n",
       "            <td>4</td>\n",
       "            <td>111</td>\n",
       "            <td>72</td>\n",
       "            <td>47</td>\n",
       "            <td>207</td>\n",
       "            <td>37.1</td>\n",
       "            <td>1.39</td>\n",
       "            <td>56</td>\n",
       "            <td>1</td>\n",
       "        </tr>\n",
       "        <tr>\n",
       "            <td>9</td>\n",
       "            <td>171</td>\n",
       "            <td>110</td>\n",
       "            <td>24</td>\n",
       "            <td>240</td>\n",
       "            <td>45.4</td>\n",
       "            <td>0.721</td>\n",
       "            <td>54</td>\n",
       "            <td>1</td>\n",
       "        </tr>\n",
       "    </tbody>\n",
       "</table>\n",
       "<span style=\"font-style:italic;text-align:center;\">Truncated to <a href=\"https://jupysql.ploomber.io/en/latest/api/configuration.html#displaylimit\">displaylimit</a> of 10.</span>"
      ],
      "text/plain": [
       "+-------------+---------+---------------+---------------+---------+------+--------------------------+-----+---------+\n",
       "| Pregnancies | Glucose | BloodPressure | SkinThickness | Insulin | BMI  | DiabetesPedigreeFunction | Age | Outcome |\n",
       "+-------------+---------+---------------+---------------+---------+------+--------------------------+-----+---------+\n",
       "|      2      |   197   |       70      |       45      |   543   | 30.5 |          0.158           |  53 |    1    |\n",
       "|      8      |   125   |       96      |       0       |    0    |  0   |          0.232           |  54 |    1    |\n",
       "|      10     |   139   |       80      |       0       |    0    | 27.1 |          1.441           |  57 |    0    |\n",
       "|      1      |   189   |       60      |       23      |   846   | 30.1 |          0.398           |  59 |    1    |\n",
       "|      5      |   166   |       72      |       19      |   175   | 25.8 |          0.587           |  51 |    1    |\n",
       "|      11     |   143   |       94      |       33      |   146   | 36.6 |          0.254           |  51 |    1    |\n",
       "|      13     |   145   |       82      |       19      |   110   | 22.2 |          0.245           |  57 |    0    |\n",
       "|      5      |   109   |       75      |       26      |    0    |  36  |          0.546           |  60 |    0    |\n",
       "|      4      |   111   |       72      |       47      |   207   | 37.1 |           1.39           |  56 |    1    |\n",
       "|      9      |   171   |      110      |       24      |   240   | 45.4 |          0.721           |  54 |    1    |\n",
       "+-------------+---------+---------------+---------------+---------+------+--------------------------+-----+---------+\n",
       "Truncated to displaylimit of 10."
      ]
     },
     "execution_count": 18,
     "metadata": {},
     "output_type": "execute_result"
    }
   ],
   "source": [
    "%%sql\n",
    "SELECT * FROM pacientes;"
   ]
  },
  {
   "cell_type": "code",
   "execution_count": 19,
   "id": "88db41e1-1dee-49f8-8a5d-c8d7da1ffd5e",
   "metadata": {},
   "outputs": [
    {
     "data": {
      "text/html": [
       "<span style=\"None\">Running query in &#x27;sqlite:///dsadatabase.db&#x27;</span>"
      ],
      "text/plain": [
       "Running query in 'sqlite:///dsadatabase.db'"
      ]
     },
     "metadata": {},
     "output_type": "display_data"
    },
    {
     "data": {
      "text/html": [
       "<table>\n",
       "    <thead>\n",
       "        <tr>\n",
       "        </tr>\n",
       "    </thead>\n",
       "    <tbody>\n",
       "    </tbody>\n",
       "</table>"
      ],
      "text/plain": [
       "++\n",
       "||\n",
       "++\n",
       "++"
      ]
     },
     "execution_count": 19,
     "metadata": {},
     "output_type": "execute_result"
    }
   ],
   "source": [
    "%%sql\n",
    "ALTER TABLE pacientes\n",
    "ADD perfil VARCHAR(10);"
   ]
  },
  {
   "cell_type": "code",
   "execution_count": 22,
   "id": "42b2b778-80a6-4019-af62-32b35c2daeca",
   "metadata": {},
   "outputs": [
    {
     "data": {
      "text/html": [
       "<span style=\"None\">Running query in &#x27;sqlite:///dsadatabase.db&#x27;</span>"
      ],
      "text/plain": [
       "Running query in 'sqlite:///dsadatabase.db'"
      ]
     },
     "metadata": {},
     "output_type": "display_data"
    },
    {
     "data": {
      "text/html": [
       "<span style=\"color: green\">38 rows affected.</span>"
      ],
      "text/plain": [
       "38 rows affected."
      ]
     },
     "metadata": {},
     "output_type": "display_data"
    },
    {
     "data": {
      "text/html": [
       "<table>\n",
       "    <thead>\n",
       "        <tr>\n",
       "        </tr>\n",
       "    </thead>\n",
       "    <tbody>\n",
       "    </tbody>\n",
       "</table>"
      ],
      "text/plain": [
       "++\n",
       "||\n",
       "++\n",
       "++"
      ]
     },
     "execution_count": 22,
     "metadata": {},
     "output_type": "execute_result"
    }
   ],
   "source": [
    "%%sql\n",
    "UPDATE pacientes\n",
    "SET perfil = 'Normal'\n",
    "WHERE BMI < 30;"
   ]
  },
  {
   "cell_type": "code",
   "execution_count": 23,
   "id": "370976e0-c9a1-4dca-bb52-3015a97fcac3",
   "metadata": {},
   "outputs": [
    {
     "data": {
      "text/html": [
       "<span style=\"None\">Running query in &#x27;sqlite:///dsadatabase.db&#x27;</span>"
      ],
      "text/plain": [
       "Running query in 'sqlite:///dsadatabase.db'"
      ]
     },
     "metadata": {},
     "output_type": "display_data"
    },
    {
     "data": {
      "text/html": [
       "<span style=\"color: green\">43 rows affected.</span>"
      ],
      "text/plain": [
       "43 rows affected."
      ]
     },
     "metadata": {},
     "output_type": "display_data"
    },
    {
     "data": {
      "text/html": [
       "<table>\n",
       "    <thead>\n",
       "        <tr>\n",
       "        </tr>\n",
       "    </thead>\n",
       "    <tbody>\n",
       "    </tbody>\n",
       "</table>"
      ],
      "text/plain": [
       "++\n",
       "||\n",
       "++\n",
       "++"
      ]
     },
     "execution_count": 23,
     "metadata": {},
     "output_type": "execute_result"
    }
   ],
   "source": [
    "%%sql\n",
    "UPDATE pacientes\n",
    "SET perfil = 'Obeso'\n",
    "WHERE BMI >= 30;"
   ]
  },
  {
   "cell_type": "code",
   "execution_count": 24,
   "id": "3d705a75-aa26-404a-b5db-018dbb99022f",
   "metadata": {},
   "outputs": [
    {
     "data": {
      "text/html": [
       "<span style=\"None\">Running query in &#x27;sqlite:///dsadatabase.db&#x27;</span>"
      ],
      "text/plain": [
       "Running query in 'sqlite:///dsadatabase.db'"
      ]
     },
     "metadata": {},
     "output_type": "display_data"
    },
    {
     "data": {
      "text/html": [
       "<table>\n",
       "    <thead>\n",
       "        <tr>\n",
       "            <th>Pregnancies</th>\n",
       "            <th>Glucose</th>\n",
       "            <th>BloodPressure</th>\n",
       "            <th>SkinThickness</th>\n",
       "            <th>Insulin</th>\n",
       "            <th>BMI</th>\n",
       "            <th>DiabetesPedigreeFunction</th>\n",
       "            <th>Age</th>\n",
       "            <th>Outcome</th>\n",
       "            <th>perfil</th>\n",
       "        </tr>\n",
       "    </thead>\n",
       "    <tbody>\n",
       "        <tr>\n",
       "            <td>2</td>\n",
       "            <td>197</td>\n",
       "            <td>70</td>\n",
       "            <td>45</td>\n",
       "            <td>543</td>\n",
       "            <td>30.5</td>\n",
       "            <td>0.158</td>\n",
       "            <td>53</td>\n",
       "            <td>1</td>\n",
       "            <td>Obeso</td>\n",
       "        </tr>\n",
       "        <tr>\n",
       "            <td>8</td>\n",
       "            <td>125</td>\n",
       "            <td>96</td>\n",
       "            <td>0</td>\n",
       "            <td>0</td>\n",
       "            <td>0</td>\n",
       "            <td>0.232</td>\n",
       "            <td>54</td>\n",
       "            <td>1</td>\n",
       "            <td>Normal</td>\n",
       "        </tr>\n",
       "        <tr>\n",
       "            <td>10</td>\n",
       "            <td>139</td>\n",
       "            <td>80</td>\n",
       "            <td>0</td>\n",
       "            <td>0</td>\n",
       "            <td>27.1</td>\n",
       "            <td>1.441</td>\n",
       "            <td>57</td>\n",
       "            <td>0</td>\n",
       "            <td>Normal</td>\n",
       "        </tr>\n",
       "        <tr>\n",
       "            <td>1</td>\n",
       "            <td>189</td>\n",
       "            <td>60</td>\n",
       "            <td>23</td>\n",
       "            <td>846</td>\n",
       "            <td>30.1</td>\n",
       "            <td>0.398</td>\n",
       "            <td>59</td>\n",
       "            <td>1</td>\n",
       "            <td>Obeso</td>\n",
       "        </tr>\n",
       "        <tr>\n",
       "            <td>5</td>\n",
       "            <td>166</td>\n",
       "            <td>72</td>\n",
       "            <td>19</td>\n",
       "            <td>175</td>\n",
       "            <td>25.8</td>\n",
       "            <td>0.587</td>\n",
       "            <td>51</td>\n",
       "            <td>1</td>\n",
       "            <td>Normal</td>\n",
       "        </tr>\n",
       "        <tr>\n",
       "            <td>11</td>\n",
       "            <td>143</td>\n",
       "            <td>94</td>\n",
       "            <td>33</td>\n",
       "            <td>146</td>\n",
       "            <td>36.6</td>\n",
       "            <td>0.254</td>\n",
       "            <td>51</td>\n",
       "            <td>1</td>\n",
       "            <td>Obeso</td>\n",
       "        </tr>\n",
       "        <tr>\n",
       "            <td>13</td>\n",
       "            <td>145</td>\n",
       "            <td>82</td>\n",
       "            <td>19</td>\n",
       "            <td>110</td>\n",
       "            <td>22.2</td>\n",
       "            <td>0.245</td>\n",
       "            <td>57</td>\n",
       "            <td>0</td>\n",
       "            <td>Normal</td>\n",
       "        </tr>\n",
       "        <tr>\n",
       "            <td>5</td>\n",
       "            <td>109</td>\n",
       "            <td>75</td>\n",
       "            <td>26</td>\n",
       "            <td>0</td>\n",
       "            <td>36</td>\n",
       "            <td>0.546</td>\n",
       "            <td>60</td>\n",
       "            <td>0</td>\n",
       "            <td>Obeso</td>\n",
       "        </tr>\n",
       "        <tr>\n",
       "            <td>4</td>\n",
       "            <td>111</td>\n",
       "            <td>72</td>\n",
       "            <td>47</td>\n",
       "            <td>207</td>\n",
       "            <td>37.1</td>\n",
       "            <td>1.39</td>\n",
       "            <td>56</td>\n",
       "            <td>1</td>\n",
       "            <td>Obeso</td>\n",
       "        </tr>\n",
       "        <tr>\n",
       "            <td>9</td>\n",
       "            <td>171</td>\n",
       "            <td>110</td>\n",
       "            <td>24</td>\n",
       "            <td>240</td>\n",
       "            <td>45.4</td>\n",
       "            <td>0.721</td>\n",
       "            <td>54</td>\n",
       "            <td>1</td>\n",
       "            <td>Obeso</td>\n",
       "        </tr>\n",
       "    </tbody>\n",
       "</table>\n",
       "<span style=\"font-style:italic;text-align:center;\">Truncated to <a href=\"https://jupysql.ploomber.io/en/latest/api/configuration.html#displaylimit\">displaylimit</a> of 10.</span>"
      ],
      "text/plain": [
       "+-------------+---------+---------------+---------------+---------+------+--------------------------+-----+---------+--------+\n",
       "| Pregnancies | Glucose | BloodPressure | SkinThickness | Insulin | BMI  | DiabetesPedigreeFunction | Age | Outcome | perfil |\n",
       "+-------------+---------+---------------+---------------+---------+------+--------------------------+-----+---------+--------+\n",
       "|      2      |   197   |       70      |       45      |   543   | 30.5 |          0.158           |  53 |    1    | Obeso  |\n",
       "|      8      |   125   |       96      |       0       |    0    |  0   |          0.232           |  54 |    1    | Normal |\n",
       "|      10     |   139   |       80      |       0       |    0    | 27.1 |          1.441           |  57 |    0    | Normal |\n",
       "|      1      |   189   |       60      |       23      |   846   | 30.1 |          0.398           |  59 |    1    | Obeso  |\n",
       "|      5      |   166   |       72      |       19      |   175   | 25.8 |          0.587           |  51 |    1    | Normal |\n",
       "|      11     |   143   |       94      |       33      |   146   | 36.6 |          0.254           |  51 |    1    | Obeso  |\n",
       "|      13     |   145   |       82      |       19      |   110   | 22.2 |          0.245           |  57 |    0    | Normal |\n",
       "|      5      |   109   |       75      |       26      |    0    |  36  |          0.546           |  60 |    0    | Obeso  |\n",
       "|      4      |   111   |       72      |       47      |   207   | 37.1 |           1.39           |  56 |    1    | Obeso  |\n",
       "|      9      |   171   |      110      |       24      |   240   | 45.4 |          0.721           |  54 |    1    | Obeso  |\n",
       "+-------------+---------+---------------+---------------+---------+------+--------------------------+-----+---------+--------+\n",
       "Truncated to displaylimit of 10."
      ]
     },
     "execution_count": 24,
     "metadata": {},
     "output_type": "execute_result"
    }
   ],
   "source": [
    "%%sql\n",
    "SELECT * FROM pacientes;"
   ]
  },
  {
   "cell_type": "code",
   "execution_count": 25,
   "id": "edce2e90-4e11-4e84-80cf-9c890d4c9aa8",
   "metadata": {},
   "outputs": [],
   "source": [
    "arquivo_final = pd.read_sql(\"SELECT * FROM pacientes\", cnn)"
   ]
  },
  {
   "cell_type": "code",
   "execution_count": 26,
   "id": "ffccdeea-6bb1-405c-9730-100c6ce0fb15",
   "metadata": {},
   "outputs": [],
   "source": [
    "arquivo_final.to_csv('pacientes.csv', index=False)"
   ]
  },
  {
   "cell_type": "code",
   "execution_count": 27,
   "id": "ddc2a25c-815c-4b2d-b578-83891031a24f",
   "metadata": {},
   "outputs": [],
   "source": [
    "cnn.close()"
   ]
  },
  {
   "cell_type": "code",
   "execution_count": null,
   "id": "dc009ca9-5b68-4135-bad8-c81a8fff0479",
   "metadata": {},
   "outputs": [],
   "source": []
  }
 ],
 "metadata": {
  "kernelspec": {
   "display_name": "Python 3 (ipykernel)",
   "language": "python",
   "name": "python3"
  },
  "language_info": {
   "codemirror_mode": {
    "name": "ipython",
    "version": 3
   },
   "file_extension": ".py",
   "mimetype": "text/x-python",
   "name": "python",
   "nbconvert_exporter": "python",
   "pygments_lexer": "ipython3",
   "version": "3.12.7"
  }
 },
 "nbformat": 4,
 "nbformat_minor": 5
}
